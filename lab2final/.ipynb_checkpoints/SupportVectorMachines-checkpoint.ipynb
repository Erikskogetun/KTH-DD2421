{
 "cells": [
  {
   "cell_type": "code",
   "execution_count": 1,
   "metadata": {},
   "outputs": [],
   "source": [
    "import numpy, random, math\n",
    "from scipy.optimize import minimize\n",
    "import matplotlib.pyplot as plt\n",
    "import random"
   ]
  },
  {
   "cell_type": "code",
   "execution_count": 2,
   "metadata": {},
   "outputs": [],
   "source": [
    "numpy.random.seed(100)\n",
    "\n",
    "classA=numpy.concatenate(\n",
    "(numpy.random.randn(10, 2) * 0.2 + [1.5, 0.5],\n",
    "numpy.random.randn(10, 2) * 0.2 + [-1.5, 0.5]))\n",
    "\n",
    "classB=numpy.random.randn(20,2) * 0.2 + [0.0, -0.5]\n",
    "\n",
    "inputs=numpy.concatenate((classA, classB))\n",
    "\n",
    "targets=numpy.concatenate(\n",
    "    (numpy.ones(classA.shape[0]), -numpy.ones(classB.shape[0])))\n",
    "\n",
    "N = inputs.shape[0] # Number of rows (samples)\n",
    "permute = list(range(N))\n",
    "random.shuffle(permute)\n",
    "\n",
    "inputs = inputs[permute,:]\n",
    "targets = targets[permute]"
   ]
  },
  {
   "cell_type": "code",
   "execution_count": 3,
   "metadata": {},
   "outputs": [],
   "source": [
    "#Linear kernel\n",
    "def LinearKernel(x, y):\n",
    "    # Todo: Transform x\n",
    "    return numpy.dot(x, y)\n",
    "    \n",
    "# Polynomial kernels\n",
    "def PolyKernel(x, y):\n",
    "    # Todo: Transform x\n",
    "    # The exponent p (a positive integer) controls the degree of the polynomials. \n",
    "    # p = 2 will make quadratic shapes (ellipses, parabolas, hyperbolas). \n",
    "    # Setting p = 3 or higher will result in more complex shapes.\n",
    "    p = 2\n",
    "    return math.pow((numpy.dot(x, y) + 1), p)\n",
    "    \n",
    "def RBFKernel(x, y):\n",
    "    # the parameter sigma is used to control the smoothness of the boundary\n",
    "    return math.exp(math.pow(abs(-np.subtract(x1, x2)), 2)/(2 * math.pow(sigma,2)))"
   ]
  },
  {
   "cell_type": "code",
   "execution_count": 4,
   "metadata": {},
   "outputs": [],
   "source": [
    "Pmatrix = numpy.zeros(shape=(N,N))\n",
    "for i in range(N):\n",
    "    for j in range(N):\n",
    "        Pmatrix[i][j] = targets[i] * targets[j] * LinearKernel(inputs[i], inputs[j])"
   ]
  },
  {
   "cell_type": "code",
   "execution_count": 5,
   "metadata": {},
   "outputs": [],
   "source": [
    "def zerofun(alpha):\n",
    "    return numpy.dot(alpha, targets)"
   ]
  },
  {
   "cell_type": "code",
   "execution_count": 6,
   "metadata": {},
   "outputs": [],
   "source": [
    "def objective(alpha):   \n",
    "    return (1/2)*numpy.dot(alpha, numpy.dot(alpha, Pmatrix)) - numpy.sum(alpha)"
   ]
  },
  {
   "cell_type": "code",
   "execution_count": 13,
   "metadata": {},
   "outputs": [
    {
     "name": "stdout",
     "output_type": "stream",
     "text": [
      "1.41237287546\n"
     ]
    }
   ],
   "source": [
    "start = numpy.zeros(N) # N is the number of training samples\n",
    "\n",
    "# To have an upper constraint\n",
    "# B = [(0, C) for b in range(N)]\n",
    "\n",
    "# To only have a lower bound:\n",
    "B = [(0, None) for b in range(N)]\n",
    "\n",
    "# XC is the second half of equation 10; given as a dictionary with fields type and fun\n",
    "# In the following example, zerofun is a function which calculates the value which\n",
    "# ...should be constrained to zero.\n",
    "XC = {'type':'eq', 'fun':zerofun}\n",
    "\n",
    "ret = minimize(objective, start, bounds=B, constraints=XC)\n",
    "alpha = ret['x'] # The string 'success' instead holds a boolean representing if the optimizer has found a solution\n",
    "\n",
    "nonzero = [(alpha[i], inputs[i], targets[i]) for i in range(N) if abs(alpha[i]) > 10e-5]"
   ]
  },
  {
   "cell_type": "code",
   "execution_count": 18,
   "metadata": {},
   "outputs": [],
   "source": [
    "def bval(x, y):\n",
    "    totsum = 0\n",
    "    for i in nonzero:\n",
    "        totsum += numpy.dot(LinearKernel([x, y], nonzero[1]), numpy.dot(nonzero[i][0], nonzero[i][2])) - nonzero[[x,y]]\n",
    "    return totsum\n",
    "        \n",
    "def indicator(x, y):\n",
    "    totsum = 0\n",
    "    for i in nonzero:\n",
    "        totsum += numpy.dot(LinearKernel([x, y], nonzero[1]), numpy.dot(nonzero[i][0], nonzero[i][2])) - bval(x, y)\n",
    "    return totsum"
   ]
  },
  {
   "cell_type": "code",
   "execution_count": 19,
   "metadata": {},
   "outputs": [
    {
     "data": {
      "image/png": "[encoded data removed]",
      "text/plain": [
       "<matplotlib.figure.Figure at 0xba55d70>"
      ]
     },
     "metadata": {},
     "output_type": "display_data"
    }
   ],
   "source": [
    "# Should color support vectors with some other color (g+, yo etc.)\n",
    "\n",
    "plt.plot([p[0] for p in classA],\n",
    "[p[1] for p in classA], 'b. ')\n",
    "plt.plot([p[0] for p in classB],\n",
    "[p[1] for p in classB], 'r. ')\n",
    "plt.axis('equal') # Force same scale on both axes\n",
    "plt.savefig('svmplot.pdf') # Save a copy in a file\n",
    "plt.show() # Show the plot on the screen"
   ]
  },
  {
   "cell_type": "code",
   "execution_count": 21,
   "metadata": {},
   "outputs": [
    {
     "ename": "ValueError",
     "evalue": "shapes (2,) and (4,) not aligned: 2 (dim 0) != 4 (dim 0)",
     "output_type": "error",
     "traceback": [
      "\u001b[1;31m---------------------------------------------------------------------------\u001b[0m",
      "\u001b[1;31mValueError\u001b[0m                                Traceback (most recent call last)",
      "\u001b[1;32m<ipython-input-21-ea21b739597a>\u001b[0m in \u001b[0;36m<module>\u001b[1;34m()\u001b[0m\n\u001b[0;32m      3\u001b[0m grid = numpy.array([[indicator(x,y)\n\u001b[0;32m      4\u001b[0m     for x in xgrid]\n\u001b[1;32m----> 5\u001b[1;33m     for y in ygrid])\n\u001b[0m\u001b[0;32m      6\u001b[0m plt.contour(xgrid, ygrid, grid,\n\u001b[0;32m      7\u001b[0m     \u001b[1;33m(\u001b[0m\u001b[1;33m-\u001b[0m\u001b[1;36m1.0\u001b[0m\u001b[1;33m,\u001b[0m\u001b[1;36m0.0\u001b[0m\u001b[1;33m,\u001b[0m\u001b[1;36m1.0\u001b[0m\u001b[1;33m)\u001b[0m\u001b[1;33m,\u001b[0m\u001b[1;33m\u001b[0m\u001b[0m\n",
      "\u001b[1;32m<ipython-input-21-ea21b739597a>\u001b[0m in \u001b[0;36m<listcomp>\u001b[1;34m(.0)\u001b[0m\n\u001b[0;32m      3\u001b[0m grid = numpy.array([[indicator(x,y)\n\u001b[0;32m      4\u001b[0m     for x in xgrid]\n\u001b[1;32m----> 5\u001b[1;33m     for y in ygrid])\n\u001b[0m\u001b[0;32m      6\u001b[0m plt.contour(xgrid, ygrid, grid,\n\u001b[0;32m      7\u001b[0m     \u001b[1;33m(\u001b[0m\u001b[1;33m-\u001b[0m\u001b[1;36m1.0\u001b[0m\u001b[1;33m,\u001b[0m\u001b[1;36m0.0\u001b[0m\u001b[1;33m,\u001b[0m\u001b[1;36m1.0\u001b[0m\u001b[1;33m)\u001b[0m\u001b[1;33m,\u001b[0m\u001b[1;33m\u001b[0m\u001b[0m\n",
      "\u001b[1;32m<ipython-input-21-ea21b739597a>\u001b[0m in \u001b[0;36m<listcomp>\u001b[1;34m(.0)\u001b[0m\n\u001b[0;32m      2\u001b[0m \u001b[0mygrid\u001b[0m \u001b[1;33m=\u001b[0m \u001b[0mnumpy\u001b[0m\u001b[1;33m.\u001b[0m\u001b[0mlinspace\u001b[0m\u001b[1;33m(\u001b[0m\u001b[1;33m-\u001b[0m\u001b[1;36m4\u001b[0m\u001b[1;33m,\u001b[0m\u001b[1;36m4\u001b[0m\u001b[1;33m)\u001b[0m\u001b[1;33m\u001b[0m\u001b[0m\n\u001b[0;32m      3\u001b[0m grid = numpy.array([[indicator(x,y)\n\u001b[1;32m----> 4\u001b[1;33m     for x in xgrid]\n\u001b[0m\u001b[0;32m      5\u001b[0m     for y in ygrid])\n\u001b[0;32m      6\u001b[0m plt.contour(xgrid, ygrid, grid,\n",
      "\u001b[1;32m<ipython-input-18-6c7a4b8ad30c>\u001b[0m in \u001b[0;36mindicator\u001b[1;34m(x, y)\u001b[0m\n\u001b[0;32m      7\u001b[0m     \u001b[0mtotsum\u001b[0m \u001b[1;33m=\u001b[0m \u001b[1;36m0\u001b[0m\u001b[1;33m\u001b[0m\u001b[0m\n\u001b[0;32m      8\u001b[0m     \u001b[1;32mfor\u001b[0m \u001b[0mi\u001b[0m \u001b[1;32min\u001b[0m \u001b[0mnonzero\u001b[0m\u001b[1;33m:\u001b[0m\u001b[1;33m\u001b[0m\u001b[0m\n\u001b[1;32m----> 9\u001b[1;33m         \u001b[0mtotsum\u001b[0m \u001b[1;33m+=\u001b[0m \u001b[0mnumpy\u001b[0m\u001b[1;33m.\u001b[0m\u001b[0mdot\u001b[0m\u001b[1;33m(\u001b[0m\u001b[0mLinearKernel\u001b[0m\u001b[1;33m(\u001b[0m\u001b[1;33m[\u001b[0m\u001b[0mx\u001b[0m\u001b[1;33m,\u001b[0m \u001b[0my\u001b[0m\u001b[1;33m]\u001b[0m\u001b[1;33m,\u001b[0m \u001b[0mnonzero\u001b[0m\u001b[1;33m[\u001b[0m\u001b[1;36m1\u001b[0m\u001b[1;33m]\u001b[0m\u001b[1;33m)\u001b[0m\u001b[1;33m,\u001b[0m \u001b[0mnumpy\u001b[0m\u001b[1;33m.\u001b[0m\u001b[0mdot\u001b[0m\u001b[1;33m(\u001b[0m\u001b[0mnonzero\u001b[0m\u001b[1;33m[\u001b[0m\u001b[0mi\u001b[0m\u001b[1;33m]\u001b[0m\u001b[1;33m[\u001b[0m\u001b[1;36m0\u001b[0m\u001b[1;33m]\u001b[0m\u001b[1;33m,\u001b[0m \u001b[0mnonzero\u001b[0m\u001b[1;33m[\u001b[0m\u001b[0mi\u001b[0m\u001b[1;33m]\u001b[0m\u001b[1;33m[\u001b[0m\u001b[1;36m2\u001b[0m\u001b[1;33m]\u001b[0m\u001b[1;33m)\u001b[0m\u001b[1;33m)\u001b[0m \u001b[1;33m-\u001b[0m \u001b[0mbval\u001b[0m\u001b[1;33m(\u001b[0m\u001b[0mx\u001b[0m\u001b[1;33m,\u001b[0m \u001b[0my\u001b[0m\u001b[1;33m)\u001b[0m\u001b[1;33m\u001b[0m\u001b[0m\n\u001b[0m",
      "\u001b[1;32m<ipython-input-3-4d07fdee2bb4>\u001b[0m in \u001b[0;36mLinearKernel\u001b[1;34m(x, y)\u001b[0m\n\u001b[0;32m      2\u001b[0m \u001b[1;32mdef\u001b[0m \u001b[0mLinearKernel\u001b[0m\u001b[1;33m(\u001b[0m\u001b[0mx\u001b[0m\u001b[1;33m,\u001b[0m \u001b[0my\u001b[0m\u001b[1;33m)\u001b[0m\u001b[1;33m:\u001b[0m\u001b[1;33m\u001b[0m\u001b[0m\n\u001b[0;32m      3\u001b[0m     \u001b[1;31m# Todo: Transform x\u001b[0m\u001b[1;33m\u001b[0m\u001b[1;33m\u001b[0m\u001b[0m\n\u001b[1;32m----> 4\u001b[1;33m     \u001b[1;32mreturn\u001b[0m \u001b[0mnumpy\u001b[0m\u001b[1;33m.\u001b[0m\u001b[0mdot\u001b[0m\u001b[1;33m(\u001b[0m\u001b[0mx\u001b[0m\u001b[1;33m,\u001b[0m \u001b[0my\u001b[0m\u001b[1;33m)\u001b[0m\u001b[1;33m\u001b[0m\u001b[0m\n\u001b[0m\u001b[0;32m      5\u001b[0m \u001b[1;33m\u001b[0m\u001b[0m\n\u001b[0;32m      6\u001b[0m \u001b[1;31m# Polynomial kernels\u001b[0m\u001b[1;33m\u001b[0m\u001b[1;33m\u001b[0m\u001b[0m\n",
      "\u001b[1;31mValueError\u001b[0m: shapes (2,) and (4,) not aligned: 2 (dim 0) != 4 (dim 0)"
     ]
    }
   ],
   "source": [
    "xgrid = numpy.linspace(-5,5)\n",
    "ygrid = numpy.linspace(-4,4)\n",
    "grid = numpy.array([[indicator(x,y)\n",
    "    for x in xgrid]\n",
    "    for y in ygrid])\n",
    "plt.contour(xgrid, ygrid, grid,\n",
    "    (-1.0,0.0,1.0),\n",
    "    colors=('red','black','blue'),\n",
    "    linewidths=(1,3,1))"
   ]
  },
  {
   "cell_type": "code",
   "execution_count": null,
   "metadata": {},
   "outputs": [],
   "source": []
  }
 ],
 "metadata": {
  "kernelspec": {
   "display_name": "Python 3",
   "language": "python",
   "name": "python3"
  },
  "language_info": {
   "codemirror_mode": {
    "name": "ipython",
    "version": 3
   },
   "file_extension": ".py",
   "mimetype": "text/x-python",
   "name": "python",
   "nbconvert_exporter": "python",
   "pygments_lexer": "ipython3",
   "version": "3.6.3"
  }
 },
 "nbformat": 4,
 "nbformat_minor": 2
}
